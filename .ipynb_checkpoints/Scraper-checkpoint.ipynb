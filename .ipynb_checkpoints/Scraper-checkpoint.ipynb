{
 "cells": [
  {
   "cell_type": "code",
   "execution_count": 1,
   "metadata": {},
   "outputs": [],
   "source": [
    "import pandas as pd\n",
    "import numpy as np\n",
    "import time\n",
    "from selenium import webdriver\n",
    "from selenium.webdriver.common.by import By"
   ]
  },
  {
   "cell_type": "markdown",
   "metadata": {},
   "source": [
    "# Data Extraction"
   ]
  },
  {
   "cell_type": "markdown",
   "metadata": {},
   "source": [
    "We are using Selenium for scraping data from cricbuzz.com"
   ]
  },
  {
   "cell_type": "code",
   "execution_count": 2,
   "metadata": {},
   "outputs": [],
   "source": [
    "driver = webdriver.Chrome()\n",
    "link = 'https://www.cricbuzz.com/cricket-series/ipl-2021/auction/completed'\n",
    "driver.get(link)\n",
    "time.sleep(5)\n",
    "element = driver.find_element_by_xpath(\"//div[@class = 'cb-col cb-col-67 cb-scrd-lft-col']\")\n",
    "string = element.text"
   ]
  },
  {
   "cell_type": "code",
   "execution_count": 4,
   "metadata": {},
   "outputs": [
    {
     "data": {
      "text/plain": [
       "'Arjun Tendulkar\\nBowling Allrounder • India\\nSOLD\\nBase Price\\n20.00  Lakh\\nFinal Price\\n20.00  Lakh\\nSold To\\nMI\\nAkash Singh\\nBowler • India\\nSOLD\\nBase Price\\n20.00  Lakh\\nFinal Price\\n20.00  Lakh\\nSold To\\nRR\\nPawan Negi\\nBowling Allrounder • India\\nSOLD\\nBase Price\\n50.00  Lakh\\nFinal Price\\n50.00  Lakh\\nSold To\\nKKR\\nVenkatesh Iyer\\nBowler • India\\nSOLD\\nBase Price\\n20.00  Lakh\\nFinal Price\\n20.00  Lakh\\nSold To\\nKKR\\nHanuma Vihari\\nBatting Allrounder • India\\nUNSOLD\\nBase Price\\n1.00  Crore\\nFinal Price\\n-\\nSold To\\nJason Behrendor'"
      ]
     },
     "execution_count": 4,
     "metadata": {},
     "output_type": "execute_result"
    }
   ],
   "source": [
    "string[:500]"
   ]
  },
  {
   "cell_type": "code",
   "execution_count": 91,
   "metadata": {},
   "outputs": [],
   "source": [
    "data = (string.split(\"\\n\"))\n",
    "all_player = list()\n",
    "player = list()\n",
    "while data != []:\n",
    "\n",
    "    if data[2] == 'SOLD':\n",
    "        player = data[:9]\n",
    "        data = data[9:]\n",
    "        all_player.append(player)\n",
    "    if data[2] == 'UNSOLD':\n",
    "        player = data[:8]\n",
    "        data = data[8:]\n",
    "        all_player.append(player)\n",
    "    player = list()"
   ]
  },
  {
   "cell_type": "code",
   "execution_count": 92,
   "metadata": {},
   "outputs": [
    {
     "data": {
      "text/plain": [
       "[['Arjun Tendulkar',\n",
       "  'Bowling Allrounder • India',\n",
       "  'SOLD',\n",
       "  'Base Price',\n",
       "  '20.00  Lakh',\n",
       "  'Final Price',\n",
       "  '20.00  Lakh',\n",
       "  'Sold To',\n",
       "  'MI']]"
      ]
     },
     "execution_count": 92,
     "metadata": {},
     "output_type": "execute_result"
    }
   ],
   "source": [
    "all_player[:1]"
   ]
  },
  {
   "cell_type": "markdown",
   "metadata": {},
   "source": [
    "### INITIALIASING DICTIONARY VARIABLES"
   ]
  },
  {
   "cell_type": "code",
   "execution_count": 93,
   "metadata": {},
   "outputs": [],
   "source": [
    "name = list()\n",
    "speciality = list()\n",
    "status = list()\n",
    "base_price = list()\n",
    "final_price = list()\n",
    "team = list()"
   ]
  },
  {
   "cell_type": "markdown",
   "metadata": {},
   "source": [
    "## Parsing and Extracting Data To Store And Utilise It Properly"
   ]
  },
  {
   "cell_type": "code",
   "execution_count": 94,
   "metadata": {},
   "outputs": [],
   "source": [
    "for player in all_player:\n",
    "    name.append(player[0])\n",
    "    speciality.append(player[1])\n",
    "    status.append(player[2])\n",
    "    base_price.append(player[4])\n",
    "    final_price.append(player[6])\n",
    "    if player[2] == 'SOLD':\n",
    "        team.append(player[8])\n",
    "    else:\n",
    "        team.append(None)"
   ]
  },
  {
   "cell_type": "code",
   "execution_count": 98,
   "metadata": {},
   "outputs": [],
   "source": [
    "role = list()\n",
    "for i in speciality:\n",
    "    position = i.find('•')\n",
    "    role.append(i[:position].strip())"
   ]
  },
  {
   "cell_type": "code",
   "execution_count": 99,
   "metadata": {},
   "outputs": [],
   "source": [
    "df = pd.DataFrame({'Name': name,\n",
    "                   'Role': role,\n",
    "                   'Status': status,\n",
    "                   'Base_Price': base_price,\n",
    "                   'Final_Price': final_price,\n",
    "                   'Team': team})"
   ]
  },
  {
   "cell_type": "code",
   "execution_count": 104,
   "metadata": {},
   "outputs": [
    {
     "data": {
      "text/html": [
       "<div>\n",
       "<style scoped>\n",
       "    .dataframe tbody tr th:only-of-type {\n",
       "        vertical-align: middle;\n",
       "    }\n",
       "\n",
       "    .dataframe tbody tr th {\n",
       "        vertical-align: top;\n",
       "    }\n",
       "\n",
       "    .dataframe thead th {\n",
       "        text-align: right;\n",
       "    }\n",
       "</style>\n",
       "<table border=\"1\" class=\"dataframe\">\n",
       "  <thead>\n",
       "    <tr style=\"text-align: right;\">\n",
       "      <th></th>\n",
       "      <th>Name</th>\n",
       "      <th>Role</th>\n",
       "      <th>Status</th>\n",
       "      <th>Base_Price</th>\n",
       "      <th>Final_Price</th>\n",
       "      <th>Team</th>\n",
       "    </tr>\n",
       "  </thead>\n",
       "  <tbody>\n",
       "    <tr>\n",
       "      <th>0</th>\n",
       "      <td>Arjun Tendulkar</td>\n",
       "      <td>Bowling Allrounder</td>\n",
       "      <td>SOLD</td>\n",
       "      <td>20.00  Lakh</td>\n",
       "      <td>20.00  Lakh</td>\n",
       "      <td>MI</td>\n",
       "    </tr>\n",
       "    <tr>\n",
       "      <th>1</th>\n",
       "      <td>Akash Singh</td>\n",
       "      <td>Bowler</td>\n",
       "      <td>SOLD</td>\n",
       "      <td>20.00  Lakh</td>\n",
       "      <td>20.00  Lakh</td>\n",
       "      <td>RR</td>\n",
       "    </tr>\n",
       "    <tr>\n",
       "      <th>2</th>\n",
       "      <td>Pawan Negi</td>\n",
       "      <td>Bowling Allrounder</td>\n",
       "      <td>SOLD</td>\n",
       "      <td>50.00  Lakh</td>\n",
       "      <td>50.00  Lakh</td>\n",
       "      <td>KKR</td>\n",
       "    </tr>\n",
       "    <tr>\n",
       "      <th>3</th>\n",
       "      <td>Venkatesh Iyer</td>\n",
       "      <td>Bowler</td>\n",
       "      <td>SOLD</td>\n",
       "      <td>20.00  Lakh</td>\n",
       "      <td>20.00  Lakh</td>\n",
       "      <td>KKR</td>\n",
       "    </tr>\n",
       "    <tr>\n",
       "      <th>4</th>\n",
       "      <td>Hanuma Vihari</td>\n",
       "      <td>Batting Allrounder</td>\n",
       "      <td>UNSOLD</td>\n",
       "      <td>1.00  Crore</td>\n",
       "      <td>-</td>\n",
       "      <td>None</td>\n",
       "    </tr>\n",
       "    <tr>\n",
       "      <th>...</th>\n",
       "      <td>...</td>\n",
       "      <td>...</td>\n",
       "      <td>...</td>\n",
       "      <td>...</td>\n",
       "      <td>...</td>\n",
       "      <td>...</td>\n",
       "    </tr>\n",
       "    <tr>\n",
       "      <th>124</th>\n",
       "      <td>Aaron Finch</td>\n",
       "      <td>Batsman</td>\n",
       "      <td>UNSOLD</td>\n",
       "      <td>1.00  Crore</td>\n",
       "      <td>-</td>\n",
       "      <td>None</td>\n",
       "    </tr>\n",
       "    <tr>\n",
       "      <th>125</th>\n",
       "      <td>Evin Lewis</td>\n",
       "      <td>Batsman</td>\n",
       "      <td>UNSOLD</td>\n",
       "      <td>1.00  Crore</td>\n",
       "      <td>-</td>\n",
       "      <td>None</td>\n",
       "    </tr>\n",
       "    <tr>\n",
       "      <th>126</th>\n",
       "      <td>Steven Smith</td>\n",
       "      <td>Batsman</td>\n",
       "      <td>SOLD</td>\n",
       "      <td>2.00  Crore</td>\n",
       "      <td>2.20  Crore</td>\n",
       "      <td>DC</td>\n",
       "    </tr>\n",
       "    <tr>\n",
       "      <th>127</th>\n",
       "      <td>Jason Roy</td>\n",
       "      <td>Batsman</td>\n",
       "      <td>UNSOLD</td>\n",
       "      <td>2.00  Crore</td>\n",
       "      <td>-</td>\n",
       "      <td>None</td>\n",
       "    </tr>\n",
       "    <tr>\n",
       "      <th>128</th>\n",
       "      <td>Alex Hales</td>\n",
       "      <td>Batsman</td>\n",
       "      <td>UNSOLD</td>\n",
       "      <td>1.50  Crore</td>\n",
       "      <td>-</td>\n",
       "      <td>None</td>\n",
       "    </tr>\n",
       "  </tbody>\n",
       "</table>\n",
       "<p>129 rows × 6 columns</p>\n",
       "</div>"
      ],
      "text/plain": [
       "                Name                Role  Status   Base_Price  Final_Price  \\\n",
       "0    Arjun Tendulkar  Bowling Allrounder    SOLD  20.00  Lakh  20.00  Lakh   \n",
       "1        Akash Singh              Bowler    SOLD  20.00  Lakh  20.00  Lakh   \n",
       "2         Pawan Negi  Bowling Allrounder    SOLD  50.00  Lakh  50.00  Lakh   \n",
       "3     Venkatesh Iyer              Bowler    SOLD  20.00  Lakh  20.00  Lakh   \n",
       "4      Hanuma Vihari  Batting Allrounder  UNSOLD  1.00  Crore            -   \n",
       "..               ...                 ...     ...          ...          ...   \n",
       "124      Aaron Finch             Batsman  UNSOLD  1.00  Crore            -   \n",
       "125       Evin Lewis             Batsman  UNSOLD  1.00  Crore            -   \n",
       "126     Steven Smith             Batsman    SOLD  2.00  Crore  2.20  Crore   \n",
       "127        Jason Roy             Batsman  UNSOLD  2.00  Crore            -   \n",
       "128       Alex Hales             Batsman  UNSOLD  1.50  Crore            -   \n",
       "\n",
       "     Team  \n",
       "0      MI  \n",
       "1      RR  \n",
       "2     KKR  \n",
       "3     KKR  \n",
       "4    None  \n",
       "..    ...  \n",
       "124  None  \n",
       "125  None  \n",
       "126    DC  \n",
       "127  None  \n",
       "128  None  \n",
       "\n",
       "[129 rows x 6 columns]"
      ]
     },
     "execution_count": 104,
     "metadata": {},
     "output_type": "execute_result"
    }
   ],
   "source": [
    "df"
   ]
  },
  {
   "cell_type": "code",
   "execution_count": 105,
   "metadata": {},
   "outputs": [],
   "source": [
    "df.to_csv('auction.csv')"
   ]
  }
 ],
 "metadata": {
  "kernelspec": {
   "display_name": "NB_9999",
   "language": "python",
   "name": "nb_9999"
  },
  "language_info": {
   "codemirror_mode": {
    "name": "ipython",
    "version": 3
   },
   "file_extension": ".py",
   "mimetype": "text/x-python",
   "name": "python",
   "nbconvert_exporter": "python",
   "pygments_lexer": "ipython3",
   "version": "3.8.5"
  }
 },
 "nbformat": 4,
 "nbformat_minor": 4
}
