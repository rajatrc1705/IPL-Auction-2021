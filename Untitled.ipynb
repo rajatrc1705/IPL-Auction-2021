{
 "cells": [
  {
   "cell_type": "code",
   "execution_count": null,
   "metadata": {},
   "outputs": [],
   "source": [
    "import numpy as np\n",
    "import pandas as pd\n",
    "import matplotlib.pyplot as plt"
   ]
  },
  {
   "cell_type": "code",
   "execution_count": null,
   "metadata": {},
   "outputs": [],
   "source": [
    "# -*- coding: utf-8 -*-\n",
    "\"\"\"\n",
    "Created on Wed Feb 17 15:00:22 2021\n",
    "\n",
    "@author: rajat\n",
    "\"\"\"\n",
    "import time\n",
    "from selenium import webdriver\n",
    "from selenium.webdriver.common.by import By\n",
    "driver = webdriver.Chrome()\n",
    "time.sleep(5)\n",
    "driver.get('https://www.iplt20.com/auction/2021')\n",
    "time.sleep(5)\n",
    "find = driver.find_element(By.XPATH, \"//div[@class = 'auction-table__table-cntr']//table[@class = 'l-three-column']\")\n",
    "driver.set_page_load_timeout(3000)\n",
    "# print (find)\n"
   ]
  },
  {
   "cell_type": "code",
   "execution_count": null,
   "metadata": {},
   "outputs": [],
   "source": [
    "print(find.text)"
   ]
  },
  {
   "cell_type": "code",
   "execution_count": null,
   "metadata": {},
   "outputs": [],
   "source": [
    "data = list()\n",
    "for text in find.text.split(\"\\n\"):\n",
    "    elements = text\n",
    "    data.append(elements)\n"
   ]
  },
  {
   "cell_type": "markdown",
   "metadata": {},
   "source": [
    "## Extracting Player Names From The Data"
   ]
  },
  {
   "cell_type": "code",
   "execution_count": null,
   "metadata": {},
   "outputs": [],
   "source": [
    "player_names = list()\n",
    "for text in data:\n",
    "    position = text.find('Batsman')\n",
    "    name = text[ :position]\n",
    "    player_names.append(name.strip())"
   ]
  },
  {
   "cell_type": "code",
   "execution_count": null,
   "metadata": {},
   "outputs": [],
   "source": [
    "for name in player_names[1:]:\n",
    "    print(name)\n",
    "player_names = player_names[1:]"
   ]
  },
  {
   "cell_type": "code",
   "execution_count": null,
   "metadata": {},
   "outputs": [],
   "source": [
    "player_position = list()\n",
    "for i in range(len(player_names)):\n",
    "    player_position.append('Batsman')"
   ]
  },
  {
   "cell_type": "markdown",
   "metadata": {},
   "source": [
    "## Extracting the base price of the players"
   ]
  },
  {
   "cell_type": "code",
   "execution_count": null,
   "metadata": {},
   "outputs": [],
   "source": [
    "base_price = list()\n",
    "for text in data[1:]:\n",
    "    position = text.find('₹')\n",
    "    price = (text[position+1:])\n",
    "    price = int(price.replace(',',''))\n",
    "    base_price.append(price)"
   ]
  },
  {
   "cell_type": "code",
   "execution_count": null,
   "metadata": {},
   "outputs": [],
   "source": []
  },
  {
   "cell_type": "markdown",
   "metadata": {},
   "source": [
    "## Adding the names to the dataframe in the \"Name\" column"
   ]
  },
  {
   "cell_type": "code",
   "execution_count": null,
   "metadata": {},
   "outputs": [],
   "source": []
  },
  {
   "cell_type": "markdown",
   "metadata": {},
   "source": [
    "## Trying to import more data"
   ]
  },
  {
   "cell_type": "code",
   "execution_count": null,
   "metadata": {},
   "outputs": [],
   "source": [
    "import bs4\n",
    "import requests"
   ]
  },
  {
   "cell_type": "code",
   "execution_count": null,
   "metadata": {},
   "outputs": [],
   "source": [
    "link = 'https://www.cricbuzz.com/profiles/'\n",
    "profile_number = list()\n",
    "for i in range(550, 10000):\n",
    "    body = requests.get(link+ str(i))\n",
    "    soup = bs4.BeautifulSoup(body.text, 'html.parser')\n",
    "    details = soup.select('.cb-font-40')\n",
    "    if i%100 == 0:\n",
    "        print(i)\n",
    "    for string in details:\n",
    "        name = string.getText().strip()\n",
    "        if name in player_names:\n",
    "#             print(\"****\\n\",name,\"\\n****\")\n",
    "#             print(type(i))\n",
    "            profile_number.append(i)\n",
    "            print(name, i)\n",
    "#     print(details)"
   ]
  },
  {
   "cell_type": "code",
   "execution_count": null,
   "metadata": {},
   "outputs": [],
   "source": [
    "player_query = list()\n",
    "for name in player_names:\n",
    "    player_query.append(name.lower().replace(' ','-'))"
   ]
  },
  {
   "cell_type": "code",
   "execution_count": null,
   "metadata": {},
   "outputs": [],
   "source": [
    "link = 'https://www.cricbuzz.com/profiles/'\n",
    "profile_number = list()\n",
    "body = requests.get(link+ str(i))\n",
    "soup = bs4.BeautifulSoup(body.text, 'html.parser')\n",
    "details = soup.select('.cb-font-40')\n",
    "if i%100 == 0:\n",
    "    print(i)\n",
    "for string in details:\n",
    "    name = string.getText().strip()\n",
    "    if name in player_names:\n",
    "#             print(\"****\\n\",name,\"\\n****\")\n",
    "#             print(type(i))\n",
    "        profile_number.append(i)\n",
    "        print(name, i)\n",
    "#     print(details)"
   ]
  },
  {
   "cell_type": "code",
   "execution_count": null,
   "metadata": {},
   "outputs": [],
   "source": []
  },
  {
   "cell_type": "code",
   "execution_count": null,
   "metadata": {},
   "outputs": [],
   "source": [
    "element = driver.find_element_by_xpath(\"//a[@id='link']\")"
   ]
  },
  {
   "cell_type": "code",
   "execution_count": null,
   "metadata": {},
   "outputs": [],
   "source": []
  },
  {
   "cell_type": "code",
   "execution_count": null,
   "metadata": {},
   "outputs": [],
   "source": [
    "problem = list()"
   ]
  },
  {
   "cell_type": "code",
   "execution_count": null,
   "metadata": {},
   "outputs": [],
   "source": [
    "import time\n",
    "from selenium import webdriver\n",
    "from selenium.webdriver.common.by import By\n"
   ]
  },
  {
   "cell_type": "code",
   "execution_count": null,
   "metadata": {},
   "outputs": [],
   "source": [
    "driver = webdriver.Chrome()\n",
    "link = 'https://www.cricbuzz.com/search?q='\n",
    "profile_number = list()\n",
    "player_nationality = list()\n",
    "for query in player_query:\n",
    "    # body = requests.get(link + query)\n",
    "    driver.get(link + query)\n",
    "    time.sleep(2)\n",
    "    # find = driver.find_element(By.XPATH, \"//div[@class = 'auction-table__table-cntr']//table[@class = 'l-three-column']\")\n",
    "    element = driver.find_element_by_xpath('//a[@class = \"text-hvr-underline text-black\"]')\n",
    "    element.click()\n",
    "    \n",
    "    name = driver.find_element_by_xpath('//div[@class = \"cb-col cb-col-80 cb-player-name-wrap\"]//h1[@class = \"cb-font-40\"]')\n",
    "    nationality = driver.find_element_by_xpath('//div[@class = \"cb-col cb-col-80 cb-player-name-wrap\"]//h3[@class = \"cb-font-18 text-gray\"]')\n",
    "#     print(name.text.strip(), nationality.text.strip())\n",
    "    player_nationality.append(nationality.text.strip())\n",
    "    if name not in player_names:\n",
    "        problem.append(query)\n",
    "        "
   ]
  },
  {
   "cell_type": "code",
   "execution_count": null,
   "metadata": {},
   "outputs": [],
   "source": [
    "driver = webdriver.Chrome()\n",
    "link = 'https://www.cricbuzz.com/search?q='\n",
    "batting_data = list()\n",
    "for query in player_query:\n",
    "    driver.get(link + query)\n",
    "    time.sleep(3)\n",
    "    # find = driver.find_element(By.XPATH, \"//div[@class = 'auction-table__table-cntr']//table[@class = 'l-three-column']\")\n",
    "    element = driver.find_element_by_xpath('//a[@class = \"text-hvr-underline text-black\"]')\n",
    "    time.sleep(2)    \n",
    "    element.click()\n",
    "    \n",
    "    try:\n",
    "        table_data = driver.find_element_by_xpath('//div[@class=\"cb-plyr-tbl\"]//table[@class = \"table cb-col-100 cb-plyr-thead\"]')\n",
    "        name = driver.find_element_by_xpath('//div[@class = \"cb-col cb-col-80 cb-player-name-wrap\"]//h1[@class = \"cb-font-40\"]')\n",
    "        if name.text.strip() == 'Ravichandran Ashwin':\n",
    "            print(query)\n",
    "        data = (table_data.text.strip())\n",
    "        position = data.find('IPL')\n",
    "        batting_data.append(data[position:])\n",
    "#         for data in table_data:\n",
    "#             print(\"****\")\n",
    "#             print(data)\n",
    "    except:\n",
    "        continue\n",
    "    "
   ]
  },
  {
   "cell_type": "code",
   "execution_count": null,
   "metadata": {},
   "outputs": [],
   "source": [
    "batting_data"
   ]
  },
  {
   "cell_type": "code",
   "execution_count": null,
   "metadata": {},
   "outputs": [],
   "source": [
    "name_data = { 'Name': player_names, \n",
    "              'Position': player_position,\n",
    "              'BasePrice': base_price,\n",
    "              'Nationality': player_nationality}\n",
    "df = pd.DataFrame(name_data)"
   ]
  },
  {
   "cell_type": "code",
   "execution_count": null,
   "metadata": {},
   "outputs": [],
   "source": [
    "df"
   ]
  },
  {
   "cell_type": "code",
   "execution_count": null,
   "metadata": {},
   "outputs": [],
   "source": []
  },
  {
   "cell_type": "code",
   "execution_count": null,
   "metadata": {},
   "outputs": [],
   "source": []
  },
  {
   "cell_type": "code",
   "execution_count": null,
   "metadata": {},
   "outputs": [],
   "source": []
  },
  {
   "cell_type": "code",
   "execution_count": null,
   "metadata": {},
   "outputs": [],
   "source": []
  },
  {
   "cell_type": "code",
   "execution_count": 1,
   "metadata": {},
   "outputs": [],
   "source": [
    "import pandas as pd\n",
    "import numpy as np\n",
    "import time\n",
    "from selenium import webdriver\n",
    "from selenium.webdriver.common.by import By\n"
   ]
  },
  {
   "cell_type": "code",
   "execution_count": 2,
   "metadata": {},
   "outputs": [],
   "source": [
    "driver = webdriver.Chrome()\n",
    "link = 'https://www.cricbuzz.com/cricket-series/ipl-2021/auction/completed'\n",
    "driver.get(link)\n",
    "time.sleep(5)\n",
    "element = driver.find_element_by_xpath(\"//div[@class = 'cb-col cb-col-67 cb-scrd-lft-col']\")\n",
    "string = element.text"
   ]
  },
  {
   "cell_type": "code",
   "execution_count": 3,
   "metadata": {},
   "outputs": [],
   "source": [
    "data = (string.split(\"\\n\"))\n",
    "all_player = list()\n",
    "player = list()\n",
    "while data != []:\n",
    "\n",
    "    if data[2] == 'SOLD':\n",
    "        player = data[:9]\n",
    "        data = data[9:]\n",
    "        all_player.append(player)\n",
    "    if data[2] == 'UNSOLD':\n",
    "        player = data[:8]\n",
    "        data = data[8:]\n",
    "        all_player.append(player)\n",
    "    player = list()"
   ]
  },
  {
   "cell_type": "code",
   "execution_count": 4,
   "metadata": {},
   "outputs": [
    {
     "data": {
      "text/plain": [
       "[['Arjun Tendulkar',\n",
       "  'Bowling Allrounder • India',\n",
       "  'SOLD',\n",
       "  'Base Price',\n",
       "  '20.00  Lakh',\n",
       "  'Final Price',\n",
       "  '20.00  Lakh',\n",
       "  'Sold To',\n",
       "  'MI']]"
      ]
     },
     "execution_count": 4,
     "metadata": {},
     "output_type": "execute_result"
    }
   ],
   "source": [
    "all_player[:1]"
   ]
  },
  {
   "cell_type": "markdown",
   "metadata": {},
   "source": [
    "## SOLD PLAYERS DATAFRAME"
   ]
  },
  {
   "cell_type": "markdown",
   "metadata": {},
   "source": [
    "### INITIALIASING DICTIONARY VARIABLES"
   ]
  },
  {
   "cell_type": "code",
   "execution_count": 5,
   "metadata": {},
   "outputs": [],
   "source": [
    "name = list()\n",
    "speciality = list()\n",
    "status = list()\n",
    "base_price = list()\n",
    "final_price = list()\n",
    "team = list()"
   ]
  },
  {
   "cell_type": "code",
   "execution_count": 6,
   "metadata": {},
   "outputs": [],
   "source": [
    "for player in all_player:\n",
    "    name.append(player[0])\n",
    "    speciality.append(player[1])\n",
    "    status.append(player[2])\n",
    "    base_price.append(player[4])\n",
    "    final_price.append(player[6])\n",
    "    if player[2] == 'SOLD':\n",
    "        team.append(player[8])\n",
    "    else:\n",
    "        team.append(None)"
   ]
  },
  {
   "cell_type": "code",
   "execution_count": 7,
   "metadata": {},
   "outputs": [
    {
     "name": "stdout",
     "output_type": "stream",
     "text": [
      "Chris Morris\n"
     ]
    }
   ],
   "source": [
    "for n in name:\n",
    "    if n in 'Chris Morris':\n",
    "        print(n)\n"
   ]
  },
  {
   "cell_type": "code",
   "execution_count": 8,
   "metadata": {},
   "outputs": [
    {
     "name": "stdout",
     "output_type": "stream",
     "text": [
      "20.0 - Lakh\n",
      "20.0 - Lakh\n",
      "50.0 - Lakh\n",
      "20.0 - Lakh\n",
      "1.0 - Crore\n",
      "1.0 - Crore\n",
      "50.0 - Lakh\n",
      "75.0 - Lakh\n",
      "50.0 - Lakh\n",
      "75.0 - Lakh\n",
      "20.0 - Lakh\n",
      "20.0 - Lakh\n",
      "2.0 - Crore\n",
      "1.5 - Crore\n",
      "2.0 - Crore\n",
      "2.0 - Crore\n",
      "50.0 - Lakh\n",
      "20.0 - Lakh\n",
      "20.0 - Lakh\n",
      "20.0 - Lakh\n",
      "20.0 - Lakh\n",
      "20.0 - Lakh\n",
      "20.0 - Lakh\n",
      "50.0 - Lakh\n",
      "20.0 - Lakh\n",
      "20.0 - Lakh\n",
      "20.0 - Lakh\n",
      "20.0 - Lakh\n",
      "50.0 - Lakh\n",
      "50.0 - Lakh\n",
      "30.0 - Lakh\n",
      "50.0 - Lakh\n",
      "50.0 - Lakh\n",
      "50.0 - Lakh\n",
      "50.0 - Lakh\n",
      "20.0 - Lakh\n",
      "20.0 - Lakh\n",
      "20.0 - Lakh\n",
      "20.0 - Lakh\n",
      "20.0 - Lakh\n",
      "20.0 - Lakh\n",
      "20.0 - Lakh\n",
      "20.0 - Lakh\n",
      "20.0 - Lakh\n",
      "50.0 - Lakh\n",
      "1.0 - Crore\n",
      "50.0 - Lakh\n",
      "50.0 - Lakh\n",
      "75.0 - Lakh\n",
      "75.0 - Lakh\n",
      "75.0 - Lakh\n",
      "20.0 - Lakh\n",
      "30.0 - Lakh\n",
      "20.0 - Lakh\n",
      "20.0 - Lakh\n",
      "20.0 - Lakh\n",
      "20.0 - Lakh\n",
      "30.0 - Lakh\n",
      "50.0 - Lakh\n",
      "50.0 - Lakh\n",
      "1.0 - Crore\n",
      "50.0 - Lakh\n",
      "50.0 - Lakh\n",
      "50.0 - Lakh\n",
      "1.0 - Crore\n",
      "1.0 - Crore\n",
      "1.5 - Crore\n",
      "75.0 - Lakh\n",
      "50.0 - Lakh\n",
      "50.0 - Lakh\n",
      "75.0 - Lakh\n",
      "50.0 - Lakh\n",
      "1.5 - Crore\n",
      "50.0 - Lakh\n",
      "20.0 - Lakh\n",
      "20.0 - Lakh\n",
      "40.0 - Lakh\n",
      "20.0 - Lakh\n",
      "20.0 - Lakh\n",
      "20.0 - Lakh\n",
      "20.0 - Lakh\n",
      "20.0 - Lakh\n",
      "20.0 - Lakh\n",
      "40.0 - Lakh\n",
      "20.0 - Lakh\n",
      "20.0 - Lakh\n",
      "30.0 - Lakh\n",
      "20.0 - Lakh\n",
      "20.0 - Lakh\n",
      "20.0 - Lakh\n",
      "20.0 - Lakh\n",
      "20.0 - Lakh\n",
      "20.0 - Lakh\n",
      "20.0 - Lakh\n",
      "20.0 - Lakh\n",
      "20.0 - Lakh\n",
      "20.0 - Lakh\n",
      "20.0 - Lakh\n",
      "20.0 - Lakh\n",
      "20.0 - Lakh\n",
      "20.0 - Lakh\n",
      "20.0 - Lakh\n",
      "20.0 - Lakh\n",
      "20.0 - Lakh\n",
      "1.0 - Crore\n",
      "50.0 - Lakh\n",
      "50.0 - Lakh\n",
      "50.0 - Lakh\n",
      "50.0 - Lakh\n",
      "1.5 - Crore\n",
      "1.0 - Crore\n",
      "1.5 - Crore\n",
      "1.0 - Crore\n",
      "1.5 - Crore\n",
      "50.0 - Lakh\n",
      "50.0 - Lakh\n",
      "1.5 - Crore\n",
      "50.0 - Lakh\n",
      "1.5 - Crore\n",
      "75.0 - Lakh\n",
      "50.0 - Lakh\n",
      "2.0 - Crore\n",
      "2.0 - Crore\n",
      "2.0 - Crore\n",
      "1.0 - Crore\n",
      "1.0 - Crore\n",
      "2.0 - Crore\n",
      "2.0 - Crore\n",
      "1.5 - Crore\n"
     ]
    }
   ],
   "source": [
    "base_p = list()\n",
    "for price in base_price:\n",
    "    string = price.split('  ')\n",
    "    if string[1] == 'Crore':\n",
    "        base_p.append(float(string[0])*100)\n",
    "    print(float(string[0]), \"-\", string[1])"
   ]
  },
  {
   "cell_type": "code",
   "execution_count": null,
   "metadata": {},
   "outputs": [],
   "source": []
  },
  {
   "cell_type": "code",
   "execution_count": null,
   "metadata": {},
   "outputs": [],
   "source": []
  },
  {
   "cell_type": "code",
   "execution_count": 9,
   "metadata": {},
   "outputs": [],
   "source": [
    "role = list()\n",
    "for i in speciality:\n",
    "    position = i.find('•')\n",
    "    role.append(i[:position].strip())"
   ]
  },
  {
   "cell_type": "code",
   "execution_count": 10,
   "metadata": {},
   "outputs": [],
   "source": [
    "df = pd.DataFrame({'Name': name,\n",
    "                   'Role': role,\n",
    "                   'Status': status,\n",
    "                   'Base_Price': base_price,\n",
    "                   'Final_Price': final_price,\n",
    "                   'Team': team})"
   ]
  },
  {
   "cell_type": "code",
   "execution_count": null,
   "metadata": {},
   "outputs": [],
   "source": []
  },
  {
   "cell_type": "code",
   "execution_count": null,
   "metadata": {},
   "outputs": [],
   "source": []
  },
  {
   "cell_type": "code",
   "execution_count": null,
   "metadata": {},
   "outputs": [],
   "source": []
  },
  {
   "cell_type": "code",
   "execution_count": 11,
   "metadata": {},
   "outputs": [],
   "source": [
    "df.to_csv('auction.csv')"
   ]
  },
  {
   "cell_type": "code",
   "execution_count": null,
   "metadata": {},
   "outputs": [],
   "source": [
    "string"
   ]
  },
  {
   "cell_type": "markdown",
   "metadata": {},
   "source": [
    "# IMPORTING AUCTION DATA FROM CSV"
   ]
  },
  {
   "cell_type": "code",
   "execution_count": 66,
   "metadata": {},
   "outputs": [],
   "source": [
    "import pandas as pd\n",
    "import numpy as np\n",
    "import matplotlib.pyplot as plt"
   ]
  },
  {
   "cell_type": "markdown",
   "metadata": {},
   "source": [
    "We write a function to import our data from the csv file"
   ]
  },
  {
   "cell_type": "code",
   "execution_count": 67,
   "metadata": {},
   "outputs": [],
   "source": [
    "def import_data(file_name):\n",
    "    \n",
    "    df = pd.read_csv(file_name)\n",
    "    return df"
   ]
  },
  {
   "cell_type": "code",
   "execution_count": 68,
   "metadata": {},
   "outputs": [],
   "source": [
    "df = import_data('auction.csv')"
   ]
  },
  {
   "cell_type": "markdown",
   "metadata": {},
   "source": [
    "## Data Cleaning"
   ]
  },
  {
   "cell_type": "markdown",
   "metadata": {},
   "source": [
    "Role column of dataframe has some odd data, we need to clean that..."
   ]
  },
  {
   "cell_type": "code",
   "execution_count": 69,
   "metadata": {},
   "outputs": [
    {
     "data": {
      "text/plain": [
       "array(['Bowling Allrounder', 'Bowler', 'Batting Allrounder', 'Batsman',\n",
       "       'WK-Batsman', 'Indi'], dtype=object)"
      ]
     },
     "execution_count": 69,
     "metadata": {},
     "output_type": "execute_result"
    }
   ],
   "source": [
    "df['Role'].unique()"
   ]
  },
  {
   "cell_type": "code",
   "execution_count": 70,
   "metadata": {},
   "outputs": [
    {
     "name": "stdout",
     "output_type": "stream",
     "text": [
      "87 Mujtaba Yousuf\n"
     ]
    }
   ],
   "source": [
    "for ind in df.index:\n",
    "    \n",
    "    if df['Role'][ind] == 'Indi':\n",
    "        print(ind, df['Name'][ind])"
   ]
  },
  {
   "cell_type": "code",
   "execution_count": 71,
   "metadata": {},
   "outputs": [
    {
     "data": {
      "text/plain": [
       "Bowler                49\n",
       "Batsman               28\n",
       "Bowling Allrounder    20\n",
       "Batting Allrounder    17\n",
       "WK-Batsman            14\n",
       "Indi                   1\n",
       "Name: Role, dtype: int64"
      ]
     },
     "execution_count": 71,
     "metadata": {},
     "output_type": "execute_result"
    }
   ],
   "source": [
    "df['Role'].value_counts()"
   ]
  },
  {
   "cell_type": "markdown",
   "metadata": {},
   "source": [
    "Mujtaba is an All-Rounder but we don't know which one, so we replace him with the type of all-rounders with most abundance"
   ]
  },
  {
   "cell_type": "code",
   "execution_count": 72,
   "metadata": {},
   "outputs": [],
   "source": [
    "df['Role'] = df['Role'].replace(['Indi'], 'Bowling Allrounder')"
   ]
  },
  {
   "cell_type": "code",
   "execution_count": 73,
   "metadata": {},
   "outputs": [
    {
     "data": {
      "text/plain": [
       "Bowler                49\n",
       "Batsman               28\n",
       "Bowling Allrounder    21\n",
       "Batting Allrounder    17\n",
       "WK-Batsman            14\n",
       "Name: Role, dtype: int64"
      ]
     },
     "execution_count": 73,
     "metadata": {},
     "output_type": "execute_result"
    }
   ],
   "source": [
    "df['Role'].value_counts()"
   ]
  },
  {
   "cell_type": "markdown",
   "metadata": {},
   "source": [
    "We need to clean the data related to prices also, converting all the prices into 'Lakhs'. We will also have some rows with no \"sold price\" as those players have gone unsold. We write 2 functions to do the same."
   ]
  },
  {
   "cell_type": "code",
   "execution_count": 74,
   "metadata": {},
   "outputs": [],
   "source": [
    "def base_price(df):\n",
    "    base_p = list()\n",
    "    for ind in df['Base_Price'].index:\n",
    "        string = df['Base_Price'][ind].split('  ')\n",
    "        if string[1] == 'Crore':\n",
    "            base_p.append(float(string[0])*100)\n",
    "        else:\n",
    "            base_p.append(float(string[0]))\n",
    "    return base_p"
   ]
  },
  {
   "cell_type": "code",
   "execution_count": 75,
   "metadata": {},
   "outputs": [],
   "source": [
    "def final_price(df):\n",
    "\n",
    "    final_price = list()\n",
    "\n",
    "    for ind in df['Final_Price'].index:\n",
    "        # print(df['Final_Price'][ind].split('  '))\n",
    "        if df['Final_Price'][ind] != '-':\n",
    "            string = df['Final_Price'][ind].split('  ')\n",
    "            price = float(string[0])\n",
    "            # print(price)\n",
    "            if string[1] == 'Crore':\n",
    "                price = price * 100\n",
    "                final_price.append(price)\n",
    "            else:\n",
    "                final_price.append(price)\n",
    "        else:\n",
    "            final_price.append(df['Final_Price'][ind])\n",
    "    return final_price"
   ]
  },
  {
   "cell_type": "code",
   "execution_count": 76,
   "metadata": {},
   "outputs": [],
   "source": [
    "df['Base_Price'] = base_price(df)\n",
    "df['Final_Price'] = final_price(df)"
   ]
  },
  {
   "cell_type": "code",
   "execution_count": 77,
   "metadata": {},
   "outputs": [],
   "source": [
    "def price_function(df):\n",
    "\n",
    "    base = np.array((df['Base_Price']))\n",
    "    \n",
    "    # replacing unsold player's final value with 0\n",
    "    final = np.array((df['Final_Price']))\n",
    "    final[final == '-'] = 0\n",
    "    \n",
    "    return base, final"
   ]
  },
  {
   "cell_type": "code",
   "execution_count": 78,
   "metadata": {},
   "outputs": [],
   "source": [
    "def scatter_plot(y, z, x):\n",
    "    colors = {'Batsman': 'red', 'Bowler': 'green', 'Bowling Allrounder': 'blue', 'Batting Allrounder': 'blue', 'WK-Batsman': 'purple'}\n",
    "    data = pd.DataFrame(dict(final_price = y, base_price = z, role = x))\n",
    "    fig, ax = plt.subplots()\n",
    "    ax.scatter(data['final_price'], data['base_price'], c=data['role'].map(colors))\n",
    "    plt.show()"
   ]
  },
  {
   "cell_type": "code",
   "execution_count": 79,
   "metadata": {},
   "outputs": [
    {
     "data": {
      "image/png": "[encoded data removed]",
      "text/plain": [
       "<Figure size 432x288 with 1 Axes>"
      ]
     },
     "metadata": {
      "needs_background": "light"
     },
     "output_type": "display_data"
    }
   ],
   "source": [
    "category = df['Role']\n",
    "base_p, final_p = price_function(df)\n",
    "scatter_plot(final_p, base_p, category)"
   ]
  },
  {
   "cell_type": "markdown",
   "metadata": {},
   "source": [
    "# UNSOLD DATA VISUALISATION"
   ]
  },
  {
   "cell_type": "code",
   "execution_count": 84,
   "metadata": {},
   "outputs": [
    {
     "data": {
      "text/html": [
       "<div>\n",
       "<style scoped>\n",
       "    .dataframe tbody tr th:only-of-type {\n",
       "        vertical-align: middle;\n",
       "    }\n",
       "\n",
       "    .dataframe tbody tr th {\n",
       "        vertical-align: top;\n",
       "    }\n",
       "\n",
       "    .dataframe thead th {\n",
       "        text-align: right;\n",
       "    }\n",
       "</style>\n",
       "<table border=\"1\" class=\"dataframe\">\n",
       "  <thead>\n",
       "    <tr style=\"text-align: right;\">\n",
       "      <th></th>\n",
       "      <th>Unnamed: 0</th>\n",
       "      <th>Name</th>\n",
       "      <th>Role</th>\n",
       "      <th>Status</th>\n",
       "      <th>Base_Price</th>\n",
       "      <th>Final_Price</th>\n",
       "      <th>Team</th>\n",
       "    </tr>\n",
       "  </thead>\n",
       "  <tbody>\n",
       "    <tr>\n",
       "      <th>4</th>\n",
       "      <td>4</td>\n",
       "      <td>Hanuma Vihari</td>\n",
       "      <td>Batting Allrounder</td>\n",
       "      <td>UNSOLD</td>\n",
       "      <td>1.00  Crore</td>\n",
       "      <td>-</td>\n",
       "      <td>NaN</td>\n",
       "    </tr>\n",
       "    <tr>\n",
       "      <th>5</th>\n",
       "      <td>5</td>\n",
       "      <td>Jason Behrendorff</td>\n",
       "      <td>Bowler</td>\n",
       "      <td>UNSOLD</td>\n",
       "      <td>1.00  Crore</td>\n",
       "      <td>-</td>\n",
       "      <td>NaN</td>\n",
       "    </tr>\n",
       "    <tr>\n",
       "      <th>6</th>\n",
       "      <td>6</td>\n",
       "      <td>Gurkeerat Singh Mann</td>\n",
       "      <td>Batsman</td>\n",
       "      <td>UNSOLD</td>\n",
       "      <td>50.00  Lakh</td>\n",
       "      <td>-</td>\n",
       "      <td>NaN</td>\n",
       "    </tr>\n",
       "    <tr>\n",
       "      <th>8</th>\n",
       "      <td>8</td>\n",
       "      <td>Rassie van der Dussen</td>\n",
       "      <td>Batsman</td>\n",
       "      <td>UNSOLD</td>\n",
       "      <td>50.00  Lakh</td>\n",
       "      <td>-</td>\n",
       "      <td>NaN</td>\n",
       "    </tr>\n",
       "    <tr>\n",
       "      <th>9</th>\n",
       "      <td>9</td>\n",
       "      <td>Corey Anderson</td>\n",
       "      <td>Batting Allrounder</td>\n",
       "      <td>UNSOLD</td>\n",
       "      <td>75.00  Lakh</td>\n",
       "      <td>-</td>\n",
       "      <td>NaN</td>\n",
       "    </tr>\n",
       "    <tr>\n",
       "      <th>...</th>\n",
       "      <td>...</td>\n",
       "      <td>...</td>\n",
       "      <td>...</td>\n",
       "      <td>...</td>\n",
       "      <td>...</td>\n",
       "      <td>...</td>\n",
       "      <td>...</td>\n",
       "    </tr>\n",
       "    <tr>\n",
       "      <th>117</th>\n",
       "      <td>117</td>\n",
       "      <td>Glenn Phillips</td>\n",
       "      <td>WK-Batsman</td>\n",
       "      <td>UNSOLD</td>\n",
       "      <td>50.00  Lakh</td>\n",
       "      <td>-</td>\n",
       "      <td>NaN</td>\n",
       "    </tr>\n",
       "    <tr>\n",
       "      <th>124</th>\n",
       "      <td>124</td>\n",
       "      <td>Aaron Finch</td>\n",
       "      <td>Batsman</td>\n",
       "      <td>UNSOLD</td>\n",
       "      <td>1.00  Crore</td>\n",
       "      <td>-</td>\n",
       "      <td>NaN</td>\n",
       "    </tr>\n",
       "    <tr>\n",
       "      <th>125</th>\n",
       "      <td>125</td>\n",
       "      <td>Evin Lewis</td>\n",
       "      <td>Batsman</td>\n",
       "      <td>UNSOLD</td>\n",
       "      <td>1.00  Crore</td>\n",
       "      <td>-</td>\n",
       "      <td>NaN</td>\n",
       "    </tr>\n",
       "    <tr>\n",
       "      <th>127</th>\n",
       "      <td>127</td>\n",
       "      <td>Jason Roy</td>\n",
       "      <td>Batsman</td>\n",
       "      <td>UNSOLD</td>\n",
       "      <td>2.00  Crore</td>\n",
       "      <td>-</td>\n",
       "      <td>NaN</td>\n",
       "    </tr>\n",
       "    <tr>\n",
       "      <th>128</th>\n",
       "      <td>128</td>\n",
       "      <td>Alex Hales</td>\n",
       "      <td>Batsman</td>\n",
       "      <td>UNSOLD</td>\n",
       "      <td>1.50  Crore</td>\n",
       "      <td>-</td>\n",
       "      <td>NaN</td>\n",
       "    </tr>\n",
       "  </tbody>\n",
       "</table>\n",
       "<p>72 rows × 7 columns</p>\n",
       "</div>"
      ],
      "text/plain": [
       "     Unnamed: 0                   Name                Role  Status  \\\n",
       "4             4          Hanuma Vihari  Batting Allrounder  UNSOLD   \n",
       "5             5      Jason Behrendorff              Bowler  UNSOLD   \n",
       "6             6   Gurkeerat Singh Mann             Batsman  UNSOLD   \n",
       "8             8  Rassie van der Dussen             Batsman  UNSOLD   \n",
       "9             9         Corey Anderson  Batting Allrounder  UNSOLD   \n",
       "..          ...                    ...                 ...     ...   \n",
       "117         117         Glenn Phillips          WK-Batsman  UNSOLD   \n",
       "124         124            Aaron Finch             Batsman  UNSOLD   \n",
       "125         125             Evin Lewis             Batsman  UNSOLD   \n",
       "127         127              Jason Roy             Batsman  UNSOLD   \n",
       "128         128             Alex Hales             Batsman  UNSOLD   \n",
       "\n",
       "      Base_Price Final_Price Team  \n",
       "4    1.00  Crore           -  NaN  \n",
       "5    1.00  Crore           -  NaN  \n",
       "6    50.00  Lakh           -  NaN  \n",
       "8    50.00  Lakh           -  NaN  \n",
       "9    75.00  Lakh           -  NaN  \n",
       "..           ...         ...  ...  \n",
       "117  50.00  Lakh           -  NaN  \n",
       "124  1.00  Crore           -  NaN  \n",
       "125  1.00  Crore           -  NaN  \n",
       "127  2.00  Crore           -  NaN  \n",
       "128  1.50  Crore           -  NaN  \n",
       "\n",
       "[72 rows x 7 columns]"
      ]
     },
     "execution_count": 84,
     "metadata": {},
     "output_type": "execute_result"
    }
   ],
   "source": [
    "df = import_data('auction.csv')\n",
    "df = df[df['Status'] == 'UNSOLD']\n",
    "df"
   ]
  },
  {
   "cell_type": "code",
   "execution_count": 85,
   "metadata": {},
   "outputs": [],
   "source": [
    "df['Base_Price'] = base_price(df)\n",
    "df['Final_Price'] = final_price(df)\n",
    "category = df['Role']\n",
    "base_p, final_p = price_function(df)\n",
    "# scatter_plot(base_p, final_p, category)"
   ]
  },
  {
   "cell_type": "code",
   "execution_count": 87,
   "metadata": {},
   "outputs": [
    {
     "data": {
      "text/plain": [
       "Bowler                28\n",
       "Batsman               19\n",
       "Batting Allrounder     9\n",
       "WK-Batsman             9\n",
       "Bowling Allrounder     6\n",
       "Indi                   1\n",
       "Name: Role, dtype: int64"
      ]
     },
     "execution_count": 87,
     "metadata": {},
     "output_type": "execute_result"
    }
   ],
   "source": [
    "category.value_counts()"
   ]
  },
  {
   "cell_type": "markdown",
   "metadata": {},
   "source": [
    "Bowler                49\n",
    "Batsman               28\n",
    "Bowling Allrounder    20\n",
    "Batting Allrounder    17\n",
    "WK-Batsman            14\n",
    "Indi                   1"
   ]
  },
  {
   "cell_type": "code",
   "execution_count": 88,
   "metadata": {},
   "outputs": [
    {
     "name": "stdout",
     "output_type": "stream",
     "text": [
      "\n",
      "Percentage Of Sold Players Of Each Category\n",
      "Bowler: 42.85714285714286\n",
      "Batsman: 32.14285714285714\n",
      "Batting Allrounder: 47.05882352941176\n",
      "Bowling Allrounder: 70.0\n",
      "WK_Batsman: 35.71428571428571\n"
     ]
    }
   ],
   "source": [
    "print(f\"\"\"\n",
    "Percentage Of Sold Players Of Each Category\n",
    "Bowler: {100 - (28/49)*100}\n",
    "Batsman: {100 - (19/28)*100}\n",
    "Batting Allrounder: {100 - (9/17)*100}\n",
    "Bowling Allrounder: {100 - (6/20)*100}\n",
    "WK_Batsman: {100 - (9/14)*100}\"\"\")"
   ]
  },
  {
   "cell_type": "code",
   "execution_count": null,
   "metadata": {},
   "outputs": [],
   "source": []
  },
  {
   "cell_type": "code",
   "execution_count": 187,
   "metadata": {},
   "outputs": [
    {
     "data": {
      "image/png": "[encoded data removed]",
      "text/plain": [
       "<Figure size 432x288 with 1 Axes>"
      ]
     },
     "metadata": {
      "needs_background": "light"
     },
     "output_type": "display_data"
    }
   ],
   "source": [
    "import matplotlib.pyplot as plt\n",
    "import numpy as np\n",
    "import pandas as pd\n",
    "\n",
    "population = np.random.rand(100)\n",
    "Area = np.random.randint(100,600,100)\n",
    "continent =['North America','Europe', 'Asia', 'Australia']*25\n",
    "\n",
    "df = pd.DataFrame(dict(population=population, Area=Area, continent = continent))\n",
    "\n",
    "fig, ax = plt.subplots()\n",
    "\n",
    "colors = {'North America':'red', 'Europe':'green', 'Asia':'blue', 'Australia':'yellow'}\n",
    "\n",
    "\n",
    "ax.scatter(df['population'], df['Area'], c=df['continent'].map(colors))\n",
    "plt.show()\n"
   ]
  },
  {
   "cell_type": "code",
   "execution_count": 144,
   "metadata": {},
   "outputs": [
    {
     "data": {
      "text/plain": [
       "['North America',\n",
       " 'Europe',\n",
       " 'Asia',\n",
       " 'Australia',\n",
       " 'North America',\n",
       " 'Europe',\n",
       " 'Asia',\n",
       " 'Australia',\n",
       " 'North America',\n",
       " 'Europe',\n",
       " 'Asia',\n",
       " 'Australia',\n",
       " 'North America',\n",
       " 'Europe',\n",
       " 'Asia',\n",
       " 'Australia',\n",
       " 'North America',\n",
       " 'Europe',\n",
       " 'Asia',\n",
       " 'Australia',\n",
       " 'North America',\n",
       " 'Europe',\n",
       " 'Asia',\n",
       " 'Australia',\n",
       " 'North America',\n",
       " 'Europe',\n",
       " 'Asia',\n",
       " 'Australia',\n",
       " 'North America',\n",
       " 'Europe',\n",
       " 'Asia',\n",
       " 'Australia',\n",
       " 'North America',\n",
       " 'Europe',\n",
       " 'Asia',\n",
       " 'Australia',\n",
       " 'North America',\n",
       " 'Europe',\n",
       " 'Asia',\n",
       " 'Australia',\n",
       " 'North America',\n",
       " 'Europe',\n",
       " 'Asia',\n",
       " 'Australia',\n",
       " 'North America',\n",
       " 'Europe',\n",
       " 'Asia',\n",
       " 'Australia',\n",
       " 'North America',\n",
       " 'Europe',\n",
       " 'Asia',\n",
       " 'Australia',\n",
       " 'North America',\n",
       " 'Europe',\n",
       " 'Asia',\n",
       " 'Australia',\n",
       " 'North America',\n",
       " 'Europe',\n",
       " 'Asia',\n",
       " 'Australia',\n",
       " 'North America',\n",
       " 'Europe',\n",
       " 'Asia',\n",
       " 'Australia',\n",
       " 'North America',\n",
       " 'Europe',\n",
       " 'Asia',\n",
       " 'Australia',\n",
       " 'North America',\n",
       " 'Europe',\n",
       " 'Asia',\n",
       " 'Australia',\n",
       " 'North America',\n",
       " 'Europe',\n",
       " 'Asia',\n",
       " 'Australia',\n",
       " 'North America',\n",
       " 'Europe',\n",
       " 'Asia',\n",
       " 'Australia',\n",
       " 'North America',\n",
       " 'Europe',\n",
       " 'Asia',\n",
       " 'Australia',\n",
       " 'North America',\n",
       " 'Europe',\n",
       " 'Asia',\n",
       " 'Australia',\n",
       " 'North America',\n",
       " 'Europe',\n",
       " 'Asia',\n",
       " 'Australia',\n",
       " 'North America',\n",
       " 'Europe',\n",
       " 'Asia',\n",
       " 'Australia',\n",
       " 'North America',\n",
       " 'Europe',\n",
       " 'Asia',\n",
       " 'Australia']"
      ]
     },
     "execution_count": 144,
     "metadata": {},
     "output_type": "execute_result"
    }
   ],
   "source": [
    "continent"
   ]
  },
  {
   "cell_type": "code",
   "execution_count": 145,
   "metadata": {},
   "outputs": [
    {
     "data": {
      "text/plain": [
       "array([0.92876946, 0.90937404, 0.94902338, 0.27498934, 0.22681094,\n",
       "       0.24028745, 0.96673579, 0.06490033, 0.75729495, 0.67944483,\n",
       "       0.66468022, 0.18734584, 0.4066621 , 0.66461298, 0.42988435,\n",
       "       0.91677456, 0.28411747, 0.64159296, 0.11524743, 0.83621332,\n",
       "       0.70242825, 0.48110033, 0.63325792, 0.66735004, 0.65818049,\n",
       "       0.86399683, 0.91878378, 0.08455318, 0.87919379, 0.21232999,\n",
       "       0.17262658, 0.01745451, 0.83737171, 0.76863051, 0.55704324,\n",
       "       0.46315243, 0.92316779, 0.91339151, 0.37796249, 0.06393015,\n",
       "       0.90662363, 0.36325383, 0.97663917, 0.12990388, 0.11727774,\n",
       "       0.94092861, 0.61944241, 0.58487744, 0.47476585, 0.53499208,\n",
       "       0.25024353, 0.59562068, 0.41506926, 0.88095428, 0.56632289,\n",
       "       0.21731636, 0.81338854, 0.08684038, 0.7153556 , 0.74474005,\n",
       "       0.86769377, 0.60984657, 0.31859737, 0.90310236, 0.71877684,\n",
       "       0.29406768, 0.7781292 , 0.9942285 , 0.84264489, 0.2036299 ,\n",
       "       0.62770551, 0.20679653, 0.61077154, 0.53331119, 0.22236689,\n",
       "       0.2974846 , 0.95819273, 0.77191983, 0.35833598, 0.65842158,\n",
       "       0.21137836, 0.17316476, 0.6106441 , 0.38121781, 0.58172445,\n",
       "       0.27035314, 0.93144541, 0.29105023, 0.39612837, 0.16918143,\n",
       "       0.52056216, 0.11762415, 0.88731358, 0.3532278 , 0.54073155,\n",
       "       0.14747837, 0.65823254, 0.47275919, 0.91212175, 0.29380878])"
      ]
     },
     "execution_count": 145,
     "metadata": {},
     "output_type": "execute_result"
    }
   ],
   "source": [
    "population"
   ]
  },
  {
   "cell_type": "code",
   "execution_count": 147,
   "metadata": {},
   "outputs": [
    {
     "data": {
      "text/plain": [
       "array([516, 450, 515, 405, 436, 327, 213, 205, 542, 297, 330, 497, 292,\n",
       "       325, 448, 270, 285, 480, 294, 217, 486, 201, 280, 324, 200, 397,\n",
       "       579, 243, 248, 297, 569, 102, 292, 236, 284, 404, 362, 175, 372,\n",
       "       578, 513, 404, 572, 286, 152, 482, 128, 241, 475, 364, 402, 305,\n",
       "       452, 317, 164, 474, 338, 565, 517, 115, 273, 509, 582, 595, 474,\n",
       "       255, 221, 348, 239, 448, 439, 502, 303, 327, 265, 525, 192, 590,\n",
       "       232, 109, 370, 293, 521, 422, 556, 417, 515, 340, 107, 507, 422,\n",
       "       440, 475, 566, 220, 539, 247, 208, 476, 337])"
      ]
     },
     "execution_count": 147,
     "metadata": {},
     "output_type": "execute_result"
    }
   ],
   "source": [
    "Area"
   ]
  },
  {
   "cell_type": "code",
   "execution_count": null,
   "metadata": {},
   "outputs": [],
   "source": []
  }
 ],
 "metadata": {
  "kernelspec": {
   "display_name": "NB_9999",
   "language": "python",
   "name": "nb_9999"
  },
  "language_info": {
   "codemirror_mode": {
    "name": "ipython",
    "version": 3
   },
   "file_extension": ".py",
   "mimetype": "text/x-python",
   "name": "python",
   "nbconvert_exporter": "python",
   "pygments_lexer": "ipython3",
   "version": "3.8.5"
  }
 },
 "nbformat": 4,
 "nbformat_minor": 4
}
